{
 "cells": [
  {
   "cell_type": "markdown",
   "source": [
    "# Effect of asking for a deposit on booking cancellation"
   ],
   "metadata": {
    "collapsed": false
   },
   "id": "d5478375bb1c5023"
  },
  {
   "cell_type": "markdown",
   "source": [
    "### Objective\n",
    "The primary goal of this project is to estimate the causal impact of deposit requirements on hotel reservation cancellations. By understanding how the imposition of a deposit affects the likelihood of cancellations, we aim to provide actionable insights that can guide hoteliers in optimizing their booking and cancellation policies. This analysis seeks to uncover not just the overall effect but also how this impact varies across different customer segments and booking conditions.\n",
    "\n",
    "### Background\n",
    "Deposit policies are a crucial aspect of hotel reservation systems, serving as a tool to reduce the risk of cancellations and ensure revenue stability. These policies, however, can have a double-edged effect. While potentially lowering the rate of last-minute cancellations, they might also deter potential customers from making a reservation due to the upfront cost. The balance between these outcomes depends on various factors, including customer behavior, market segment, and the competitive landscape of the hotel industry. Given this complexity, a nuanced understanding of deposit requirements' effects is essential for crafting policies that enhance both customer satisfaction and hotel revenue."
   ],
   "metadata": {
    "collapsed": false
   },
   "id": "9f9cb8fac06f2cd1"
  },
  {
   "cell_type": "markdown",
   "source": [
    "### Strategy for estimating the effect of asking for a deposit"
   ],
   "metadata": {
    "collapsed": false
   },
   "id": "f5d0cc2e970f27a2"
  },
  {
   "cell_type": "markdown",
   "source": [
    "#### Assumption \n",
    "- I will be using meta-learner models. Thus, note I have to make create a very bold and strong assumption that the there is no unobserved confounding facotrs that affect both the treatment and the outcome. \n",
    "- This is likely not realistic. However, for the purpose of this project, I need to put this assumption in place.\n",
    "  "
   ],
   "metadata": {
    "collapsed": false
   },
   "id": "515fdacefb2aee17"
  },
  {
   "cell_type": "markdown",
   "source": [
    "### Choice Between S-Learner and T-Learner\n",
    "- I choose T-learner but why?\n",
    "\n",
    "Given the significant imbalance between reservations requiring a deposit (Treatment Group) and those that do not (Control Group), the T-Learner approach is identified as the most appropriate for our analysis. The S-Learner's effectiveness diminishes with such disparities, as it integrates the treatment as a feature in a unified model, potentially weakening the treatment effect estimation. The T-Learner, by constructing separate models for each group, better accommodates the imbalance, enabling a more precise estimation of how deposit requirements influence cancellation rates. This choice allows for a nuanced analysis, crucial for our project's aim to derive targeted policy recommendations based on the causal impact of deposit requirements. \n",
    "\n",
    "- Why not X-learn or R-learner?\n",
    "    - it was too complex for this project."
   ],
   "metadata": {
    "collapsed": false
   },
   "id": "b41dba0073f46bc9"
  },
  {
   "cell_type": "markdown",
   "source": [],
   "metadata": {
    "collapsed": false
   },
   "id": "3dfe3295ef658893"
  },
  {
   "cell_type": "markdown",
   "source": [
    "## Data Exploration and Preprocessing\n",
    "\n",
    "- **For Some basic exploration, refer to the Classification notebook**"
   ],
   "metadata": {
    "collapsed": false
   },
   "id": "8bba0816fdc7164c"
  },
  {
   "cell_type": "code",
   "execution_count": 1,
   "id": "initial_id",
   "metadata": {
    "collapsed": true,
    "ExecuteTime": {
     "end_time": "2024-02-11T18:31:12.839816Z",
     "start_time": "2024-02-11T18:31:12.837382Z"
    }
   },
   "outputs": [],
   "source": [
    "import pandas as pd\n",
    "import numpy as np\n",
    "import matplotlib.pyplot as plt\n",
    "import seaborn as sns"
   ]
  },
  {
   "cell_type": "code",
   "outputs": [],
   "source": [
    "df = pd.read_csv('hotel_booking.csv')"
   ],
   "metadata": {
    "collapsed": false,
    "ExecuteTime": {
     "end_time": "2024-02-11T18:31:35.834320Z",
     "start_time": "2024-02-11T18:31:35.525791Z"
    }
   },
   "id": "e96aecad0f16dbcc",
   "execution_count": 2
  },
  {
   "cell_type": "code",
   "outputs": [],
   "source": [],
   "metadata": {
    "collapsed": false
   },
   "id": "132f7623c564b5f2"
  },
  {
   "cell_type": "code",
   "outputs": [
    {
     "data": {
      "text/plain": "          hotel  is_canceled  lead_time  arrival_date_year arrival_date_month  \\\n0  Resort Hotel            0        342               2015               July   \n1  Resort Hotel            0        737               2015               July   \n2  Resort Hotel            0          7               2015               July   \n3  Resort Hotel            0         13               2015               July   \n4  Resort Hotel            0         14               2015               July   \n\n   arrival_date_week_number  arrival_date_day_of_month  \\\n0                        27                          1   \n1                        27                          1   \n2                        27                          1   \n3                        27                          1   \n4                        27                          1   \n\n   stays_in_weekend_nights  stays_in_week_nights  adults  ...  customer_type  \\\n0                        0                     0       2  ...      Transient   \n1                        0                     0       2  ...      Transient   \n2                        0                     1       1  ...      Transient   \n3                        0                     1       1  ...      Transient   \n4                        0                     2       2  ...      Transient   \n\n    adr required_car_parking_spaces total_of_special_requests  \\\n0   0.0                           0                         0   \n1   0.0                           0                         0   \n2  75.0                           0                         0   \n3  75.0                           0                         0   \n4  98.0                           0                         1   \n\n  reservation_status reservation_status_date            name  \\\n0          Check-Out              2015-07-01   Ernest Barnes   \n1          Check-Out              2015-07-01    Andrea Baker   \n2          Check-Out              2015-07-02  Rebecca Parker   \n3          Check-Out              2015-07-02    Laura Murray   \n4          Check-Out              2015-07-03     Linda Hines   \n\n                         email  phone-number       credit_card  \n0  Ernest.Barnes31@outlook.com  669-792-1661  ************4322  \n1       Andrea_Baker94@aol.com  858-637-6955  ************9157  \n2   Rebecca_Parker@comcast.net  652-885-2745  ************3734  \n3            Laura_M@gmail.com  364-656-8427  ************5677  \n4           LHines@verizon.com  713-226-5883  ************5498  \n\n[5 rows x 36 columns]",
      "text/html": "<div>\n<style scoped>\n    .dataframe tbody tr th:only-of-type {\n        vertical-align: middle;\n    }\n\n    .dataframe tbody tr th {\n        vertical-align: top;\n    }\n\n    .dataframe thead th {\n        text-align: right;\n    }\n</style>\n<table border=\"1\" class=\"dataframe\">\n  <thead>\n    <tr style=\"text-align: right;\">\n      <th></th>\n      <th>hotel</th>\n      <th>is_canceled</th>\n      <th>lead_time</th>\n      <th>arrival_date_year</th>\n      <th>arrival_date_month</th>\n      <th>arrival_date_week_number</th>\n      <th>arrival_date_day_of_month</th>\n      <th>stays_in_weekend_nights</th>\n      <th>stays_in_week_nights</th>\n      <th>adults</th>\n      <th>...</th>\n      <th>customer_type</th>\n      <th>adr</th>\n      <th>required_car_parking_spaces</th>\n      <th>total_of_special_requests</th>\n      <th>reservation_status</th>\n      <th>reservation_status_date</th>\n      <th>name</th>\n      <th>email</th>\n      <th>phone-number</th>\n      <th>credit_card</th>\n    </tr>\n  </thead>\n  <tbody>\n    <tr>\n      <th>0</th>\n      <td>Resort Hotel</td>\n      <td>0</td>\n      <td>342</td>\n      <td>2015</td>\n      <td>July</td>\n      <td>27</td>\n      <td>1</td>\n      <td>0</td>\n      <td>0</td>\n      <td>2</td>\n      <td>...</td>\n      <td>Transient</td>\n      <td>0.0</td>\n      <td>0</td>\n      <td>0</td>\n      <td>Check-Out</td>\n      <td>2015-07-01</td>\n      <td>Ernest Barnes</td>\n      <td>Ernest.Barnes31@outlook.com</td>\n      <td>669-792-1661</td>\n      <td>************4322</td>\n    </tr>\n    <tr>\n      <th>1</th>\n      <td>Resort Hotel</td>\n      <td>0</td>\n      <td>737</td>\n      <td>2015</td>\n      <td>July</td>\n      <td>27</td>\n      <td>1</td>\n      <td>0</td>\n      <td>0</td>\n      <td>2</td>\n      <td>...</td>\n      <td>Transient</td>\n      <td>0.0</td>\n      <td>0</td>\n      <td>0</td>\n      <td>Check-Out</td>\n      <td>2015-07-01</td>\n      <td>Andrea Baker</td>\n      <td>Andrea_Baker94@aol.com</td>\n      <td>858-637-6955</td>\n      <td>************9157</td>\n    </tr>\n    <tr>\n      <th>2</th>\n      <td>Resort Hotel</td>\n      <td>0</td>\n      <td>7</td>\n      <td>2015</td>\n      <td>July</td>\n      <td>27</td>\n      <td>1</td>\n      <td>0</td>\n      <td>1</td>\n      <td>1</td>\n      <td>...</td>\n      <td>Transient</td>\n      <td>75.0</td>\n      <td>0</td>\n      <td>0</td>\n      <td>Check-Out</td>\n      <td>2015-07-02</td>\n      <td>Rebecca Parker</td>\n      <td>Rebecca_Parker@comcast.net</td>\n      <td>652-885-2745</td>\n      <td>************3734</td>\n    </tr>\n    <tr>\n      <th>3</th>\n      <td>Resort Hotel</td>\n      <td>0</td>\n      <td>13</td>\n      <td>2015</td>\n      <td>July</td>\n      <td>27</td>\n      <td>1</td>\n      <td>0</td>\n      <td>1</td>\n      <td>1</td>\n      <td>...</td>\n      <td>Transient</td>\n      <td>75.0</td>\n      <td>0</td>\n      <td>0</td>\n      <td>Check-Out</td>\n      <td>2015-07-02</td>\n      <td>Laura Murray</td>\n      <td>Laura_M@gmail.com</td>\n      <td>364-656-8427</td>\n      <td>************5677</td>\n    </tr>\n    <tr>\n      <th>4</th>\n      <td>Resort Hotel</td>\n      <td>0</td>\n      <td>14</td>\n      <td>2015</td>\n      <td>July</td>\n      <td>27</td>\n      <td>1</td>\n      <td>0</td>\n      <td>2</td>\n      <td>2</td>\n      <td>...</td>\n      <td>Transient</td>\n      <td>98.0</td>\n      <td>0</td>\n      <td>1</td>\n      <td>Check-Out</td>\n      <td>2015-07-03</td>\n      <td>Linda Hines</td>\n      <td>LHines@verizon.com</td>\n      <td>713-226-5883</td>\n      <td>************5498</td>\n    </tr>\n  </tbody>\n</table>\n<p>5 rows × 36 columns</p>\n</div>"
     },
     "execution_count": 3,
     "metadata": {},
     "output_type": "execute_result"
    }
   ],
   "source": [
    "df.head()"
   ],
   "metadata": {
    "collapsed": false
   },
   "id": "a4c07f50f8ed1df0",
   "execution_count": 3
  },
  {
   "cell_type": "code",
   "outputs": [
    {
     "data": {
      "text/plain": "deposit_type\nNo Deposit    104641\nNon Refund     14587\nRefundable       162\nName: count, dtype: int64"
     },
     "execution_count": 11,
     "metadata": {},
     "output_type": "execute_result"
    }
   ],
   "source": [
    "df.deposit_type.value_counts()"
   ],
   "metadata": {
    "collapsed": false,
    "ExecuteTime": {
     "end_time": "2024-02-11T19:47:18.737961Z",
     "start_time": "2024-02-11T19:47:18.733479Z"
    }
   },
   "id": "870950265d81d3dd",
   "execution_count": 11
  },
  {
   "cell_type": "markdown",
   "source": [
    "I want to drop Refundable because treatment has to be binary for this analysis. \n",
    "Thus, no deposit will be 0 whereas non-refundable will be 1 (in order to estimate the effect of asking for deposit). \n",
    "\n",
    "Furthermore, including \"refundable\" to \"Non-refund\" is not recommended because user behaviour can be different for refundable and non-refundable.  "
   ],
   "metadata": {
    "collapsed": false
   },
   "id": "10d50994a83c5df2"
  },
  {
   "cell_type": "code",
   "outputs": [],
   "source": [
    "# drop refundable\n",
    "df = df[df.deposit_type != 'Refundable']"
   ],
   "metadata": {
    "collapsed": false
   },
   "id": "11ae10b61046e664"
  }
 ],
 "metadata": {
  "kernelspec": {
   "display_name": "Python 3",
   "language": "python",
   "name": "python3"
  },
  "language_info": {
   "codemirror_mode": {
    "name": "ipython",
    "version": 2
   },
   "file_extension": ".py",
   "mimetype": "text/x-python",
   "name": "python",
   "nbconvert_exporter": "python",
   "pygments_lexer": "ipython2",
   "version": "2.7.6"
  }
 },
 "nbformat": 4,
 "nbformat_minor": 5
}
